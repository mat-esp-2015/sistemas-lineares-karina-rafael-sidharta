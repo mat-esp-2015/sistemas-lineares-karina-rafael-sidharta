{
 "cells": [
  {
   "cell_type": "markdown",
   "metadata": {},
   "source": [
    "# Solução de sistemas lineares através da eliminação de Gauss"
   ]
  },
  {
   "cell_type": "markdown",
   "metadata": {},
   "source": [
    "## License\n",
    "\n",
    "All content can be freely used and adapted under the terms of the \n",
    "[Creative Commons Attribution 4.0 International License](http://creativecommons.org/licenses/by/4.0/).\n",
    "\n",
    "![Creative Commons License](https://i.creativecommons.org/l/by/4.0/88x31.png)"
   ]
  },
  {
   "cell_type": "markdown",
   "metadata": {},
   "source": [
    "## Imports\n",
    "\n",
    "Coloque **todos** os `import` na célula abaixo. Não se esqueça do `%matplotlib inline` para que os gráficos apareçam no notebook."
   ]
  },
  {
   "cell_type": "code",
   "execution_count": 4,
   "metadata": {
    "collapsed": true
   },
   "outputs": [],
   "source": [
    "import numpy as np\n",
    "%matplotlib inline"
   ]
  },
  {
   "cell_type": "markdown",
   "metadata": {},
   "source": [
    "Importamos as bibliotecas acima para realizar os cálculos matemáticos de forma mais simples"
   ]
  },
  {
   "cell_type": "markdown",
   "metadata": {},
   "source": [
    "## Tarefa 1\n",
    "\n",
    "Reduza o sistema linear $\\bar{\\bar{A}}\\bar{x} = \\bar{b}$ para sua forma escalonada (row echelon form)."
   ]
  },
  {
   "cell_type": "code",
   "execution_count": 5,
   "metadata": {
    "collapsed": false
   },
   "outputs": [],
   "source": [
    "N = 11  # Número de linhas\n",
    "M = 11  # Número de colunas\n",
    "sistema = [[25, 108, 58, 102, 61, 24, 39, 40, 67, 11, 5],\n",
    "           [51, 28, 17, 98, 105, 43, 86, 2, 71, 20, 95],\n",
    "           [56, 70, 109, 45, 117, 52, 97, 92, 1, 42, 78],\n",
    "           [59, 6, 50, 37, 120, 118, 104, 64, 53, 100, 66],\n",
    "           [82, 74, 68, 80, 16, 115, 63, 103, 60, 30, 93],\n",
    "           [79, 113, 65, 72, 22, 35, 101, 10, 83, 89, 85],\n",
    "           [34, 57, 90, 9, 14, 47, 76, 44, 26, 48, 114],\n",
    "           [41, 7, 21, 75, 33, 49, 32, 119, 46, 0, 87],\n",
    "           [91, 77, 55, 18, 106, 54, 116, 12, 13, 31, 38],\n",
    "           [27, 81, 29, 107, 84, 15, 3, 112, 88, 69, 19],\n",
    "           [110, 96, 23, 73, 36, 8, 99, 4, 94, 111, 62]]\n",
    "lado_direito = [3323, 2869, 4085, 3211, 4181, 3831, 2699, 2891, 3188, 3586, 3598]"
   ]
  },
  {
   "cell_type": "markdown",
   "metadata": {},
   "source": [
    "Explicação do código usado abaixo.\n",
    "\n",
    "Para cada linha chamada de k, variando de 0 a N, iremos zerar o primeiro termo da linha seguinte i, que vai de k+1 até N.\n",
    "Nisso, determinamos o fator que será multiplicado para que ao somar uma linha com a outra, seja possível zerar o termo.\n",
    "Iremos aplicar essa mesma metodologia para cada elemento da lista em que estamos trabalhando, inclusive o lado direito.\n",
    "        "
   ]
  },
  {
   "cell_type": "code",
   "execution_count": 6,
   "metadata": {
    "collapsed": false
   },
   "outputs": [],
   "source": [
    "for k in range(0,N):    \n",
    "    for i in range(k+1,N):\n",
    "        fator = (- sistema[i][k]/sistema[k][k])\n",
    "        for j in range(0,N):\n",
    "            sistema[i][j] = (sistema[k][j] * fator + sistema[i][j])\n",
    "        lado_direito[i] = (lado_direito[k] * fator + lado_direito[i])"
   ]
  },
  {
   "cell_type": "code",
   "execution_count": 7,
   "metadata": {
    "collapsed": false
   },
   "outputs": [
    {
     "name": "stdout",
     "output_type": "stream",
     "text": [
      "                                               A                                                   |    b \n",
      "  25.000  108.000   58.000  102.000   61.000   24.000   39.000   40.000   67.000   11.000    5.000 | 3323.000\n",
      "   0.000 -192.320 -101.320 -110.080  -19.440   -5.960    6.440  -79.600  -65.680   -2.440   84.800 | -3909.920\n",
      "  -0.000    0.000   69.653  -85.077   -2.262    3.568    3.883   73.557  -90.367   19.541   -9.005 |  136.662\n",
      "   0.000    0.000    0.000   -7.233    2.634   66.807    1.160   25.893   37.269   64.787  -49.820 |  341.724\n",
      "  -0.000    0.000    0.000    0.000 -177.918 -539.479  -85.844 -165.046 -356.419 -575.159  391.184 | -4053.756\n",
      "  -0.000    0.000    0.000    0.000   -0.000 -539.656   43.030 -267.157 -271.025 -378.300  357.879 | -3235.329\n",
      "   0.000    0.000    0.000    0.000   -0.000    0.000   55.468  -69.824   59.860   57.791   78.381 |  141.706\n",
      "   0.000    0.000    0.000    0.000   -0.000    0.000    0.000   70.381   24.471   60.345  -29.950 |  741.794\n",
      "   0.000    0.000    0.000    0.000    0.000    0.000    0.000    0.000  -16.843 -126.224   62.584 |   57.797\n",
      "   0.000    0.000    0.000    0.000    0.000    0.000    0.000    0.000    0.000 -291.983  268.919 |  537.838\n",
      "  -0.000    0.000    0.000    0.000    0.000    0.000    0.000    0.000    0.000    0.000  -71.547 | -143.094\n"
     ]
    }
   ],
   "source": [
    "print('                                               A                                                   |    b ')\n",
    "for i in range(N):\n",
    "    for j in range(M):\n",
    "        print('{:8.3f} '.format(sistema[i][j]), end='')\n",
    "    print('| {:8.3f}'.format(lado_direito[i]))"
   ]
  },
  {
   "cell_type": "markdown",
   "metadata": {},
   "source": [
    "### Resultado esperado\n",
    "\n",
    "Quando executada, a célula abaixo deverá imprimir exatamente:\n",
    "\n",
    "                                                   A                                                   |    b \n",
    "      25.000  108.000   58.000  102.000   61.000   24.000   39.000   40.000   67.000   11.000    5.000 | 3323.000\n",
    "       0.000 -192.320 -101.320 -110.080  -19.440   -5.960    6.440  -79.600  -65.680   -2.440   84.800 | -3909.920\n",
    "      -0.000    0.000   69.653  -85.077   -2.262    3.568    3.883   73.557  -90.367   19.541   -9.005 |  136.662\n",
    "       0.000    0.000    0.000   -7.233    2.634   66.807    1.160   25.893   37.269   64.787  -49.820 |  341.724\n",
    "       0.000    0.000    0.000    0.000 -177.918 -539.479  -85.844 -165.046 -356.419 -575.159  391.184 | -4053.756\n",
    "       0.000    0.000    0.000    0.000   -0.000 -539.656   43.030 -267.157 -271.025 -378.300  357.879 | -3235.329\n",
    "       0.000    0.000    0.000    0.000    0.000    0.000   55.468  -69.824   59.860   57.791   78.381 |  141.706\n",
    "       0.000    0.000    0.000    0.000    0.000    0.000    0.000   70.381   24.471   60.345  -29.950 |  741.794\n",
    "       0.000    0.000    0.000    0.000    0.000    0.000    0.000    0.000  -16.843 -126.224   62.584 |   57.797\n",
    "       0.000    0.000    0.000    0.000    0.000    0.000    0.000    0.000    0.000 -291.983  268.919 |  537.838\n",
    "      -0.000    0.000    0.000    0.000    0.000    0.000    0.000    0.000    0.000    0.000  -71.547 | -143.094\n"
   ]
  },
  {
   "cell_type": "markdown",
   "metadata": {},
   "source": [
    "## Tarefa 2\n",
    "\n",
    "Utilize a matriz escalonada acima para encontrar a solução do sistema através da substituição retrocedida (back substitution). Coloque a solução em uma lista chamada `solucao`.\n",
    "\n",
    "**Dica**: \n",
    "\n",
    "* Para criar uma lista com um mesmo valor repetido N vezes: `[numero]*N`. Por exemplo, `[0]*4` resulta em `[0, 0, 0, 0]`."
   ]
  },
  {
   "cell_type": "markdown",
   "metadata": {},
   "source": [
    "Explicação do código abaixo.\n",
    "\n",
    "Primeiro, precisamos criar uma lista de 0, para depois ir trocando pelos valores da solução\n",
    "Para todo k variando de N-1 até -1 (de trás pra frente) diminuindo de 1 em 1:\n",
    "Definimos x=0 para iniciar o somatório\n",
    "Para todo i, variando de N-1 até k-1 diminuindo de 1 em 1:\n",
    "x vai ser igual ao valor anterior de x somado ao valor do fator.\n"
   ]
  },
  {
   "cell_type": "code",
   "execution_count": 8,
   "metadata": {
    "collapsed": false
   },
   "outputs": [],
   "source": [
    "#Comando para criar um lista com 11 valores.\n",
    "solucao = [0] * 11\n",
    "#Loop para as linhas.\n",
    "for k in range(N-1, -1, -1):\n",
    "    x = 0\n",
    "#Comando utilizará o loop para as colunas, a fim de fazê-las aumentarem cada vez que o programa rodar. \n",
    "    for i in range(M-1, k-1, -1):\n",
    "        x = x + (solucao[i] * sistema[k][i])\n",
    "    solucao[k] = (lado_direito[k] - x) / sistema[k][i]"
   ]
  },
  {
   "cell_type": "markdown",
   "metadata": {},
   "source": [
    "### Resultado esperado\n",
    "\n",
    "Quando executada, a célula abaixo deverá imprimir exatamente:\n",
    "\n",
    "    6.000000 9.000000 5.000000 7.000000 3.000000 1.000000 8.000000 10.000000 4.000000 0.000000 2.000000 "
   ]
  },
  {
   "cell_type": "code",
   "execution_count": 9,
   "metadata": {
    "collapsed": false
   },
   "outputs": [
    {
     "name": "stdout",
     "output_type": "stream",
     "text": [
      "6.000000 9.000000 5.000000 7.000000 3.000000 1.000000 8.000000 10.000000 4.000000 0.000000 2.000000 "
     ]
    }
   ],
   "source": [
    "for i in range(N):\n",
    "    print('{:8.6f} '.format(solucao[i]), end='')"
   ]
  },
  {
   "cell_type": "markdown",
   "metadata": {},
   "source": [
    "## Tarefa Bônus"
   ]
  },
  {
   "cell_type": "markdown",
   "metadata": {},
   "source": [
    "Sua tarefa será aplicar a eliminação de Gauss para resolver o sistema linear gerado abaixo."
   ]
  },
  {
   "cell_type": "code",
   "execution_count": 10,
   "metadata": {
    "collapsed": false
   },
   "outputs": [],
   "source": [
    "# Para tornar a vida mais interessante, vamos gerar um sistema linear aleatório\n",
    "N, M = 13, 13\n",
    "A = np.random.random_integers(10, 50, size=(N, M)).tolist()\n",
    "for i in range(N):\n",
    "    A[i][i] = 0\n",
    "b = np.dot(A, np.random.random_integers(1, 20, size=N)).tolist()"
   ]
  },
  {
   "cell_type": "code",
   "execution_count": 11,
   "metadata": {
    "collapsed": false
   },
   "outputs": [
    {
     "name": "stdout",
     "output_type": "stream",
     "text": [
      "                                                   A                                                    |    b \n",
      "    0.0    13.0    24.0    29.0    44.0    50.0    50.0    17.0    27.0    37.0    39.0    28.0    12.0 |  3780.0\n",
      "   30.0     0.0    13.0    48.0    16.0    22.0    39.0    40.0    33.0    15.0    11.0    48.0    49.0 |  3719.0\n",
      "   31.0    20.0     0.0    40.0    45.0    18.0    21.0    17.0    43.0    49.0    19.0    30.0    44.0 |  3570.0\n",
      "   13.0    47.0    36.0     0.0    50.0    32.0    14.0    19.0    14.0    44.0    39.0    30.0    24.0 |  3097.0\n",
      "   25.0    16.0    50.0    22.0     0.0    46.0    30.0    17.0    44.0    45.0    12.0    27.0    24.0 |  2834.0\n",
      "   32.0    40.0    46.0    24.0    23.0     0.0    27.0    28.0    21.0    22.0    29.0    48.0    15.0 |  3053.0\n",
      "   48.0    49.0    50.0    47.0    14.0    47.0     0.0    50.0    12.0    34.0    16.0    31.0    38.0 |  3897.0\n",
      "   22.0    50.0    49.0    25.0    34.0    42.0    23.0     0.0    19.0    19.0    13.0    28.0    32.0 |  2929.0\n",
      "   43.0    16.0    29.0    39.0    21.0    49.0    43.0    44.0     0.0    27.0    31.0    33.0    39.0 |  3930.0\n",
      "   35.0    13.0    41.0    27.0    31.0    31.0    29.0    24.0    39.0     0.0    45.0    44.0    42.0 |  3996.0\n",
      "   16.0    16.0    12.0    40.0    40.0    29.0    36.0    28.0    27.0    24.0     0.0    36.0    33.0 |  3391.0\n",
      "   13.0    38.0    38.0    49.0    42.0    38.0    40.0    20.0    46.0    27.0    50.0     0.0    31.0 |  4431.0\n",
      "   24.0    48.0    28.0    31.0    28.0    21.0    22.0    45.0    41.0    38.0    31.0    27.0     0.0 |  3667.0\n"
     ]
    }
   ],
   "source": [
    "print('                                                   A                                                    |    b ')\n",
    "for i in range(N):\n",
    "    for j in range(M):\n",
    "        print('{:7.1f} '.format(A[i][j]), end='')\n",
    "    print('| {:7.1f}'.format(b[i]))"
   ]
  },
  {
   "cell_type": "markdown",
   "metadata": {},
   "source": [
    "Porém, há um problema. Você não poderá fazer isso diretamente pois $A_{ii} == 0$ (a diagonal da matriz é zero). Logo, não há como dividir pelo elemento pivo e não há como aplicar a eliminação de Gauss nesse sistema. **Experimente aplicar a eliminação convencional que você implementou acima nesse sistema e veja o que acontece.**"
   ]
  },
  {
   "cell_type": "code",
   "execution_count": null,
   "metadata": {
    "collapsed": true
   },
   "outputs": [],
   "source": []
  },
  {
   "cell_type": "markdown",
   "metadata": {},
   "source": [
    "\n",
    "\n",
    "### Condensação pivotal (partial pivoting)\n",
    "\n",
    "Existe um método para contornar esse problema chamado **condensação pivotal** (partial pivoting). A ideia é que podemos trocar duas linhas do sistema de lugar sem alterar a solução. Logo, podemos tirar os elementos 0 da diagonal da matriz trocando por outra linha sem o 0 na posição do pivo. Um jeito melhor ainda de fazer isso é colocando a linha com o **maior elemento** possível na posição do pivo (veja [aqui uma ótima explicação disso](http://www.math.iitb.ac.in/~neela/partialpivot.pdf)). \n",
    "\n",
    "O método da eliminação de Gauss com condensação pivotal é:\n",
    "\n",
    "    Para cada linha k do sistema:\n",
    "        Ache a linha de A com o maior elemento na coluna k (só precisa considerar de k para baixo)\n",
    "        Troque a linha k com a linha determinada acima (não esqueça de trocar o lado direito também)\n",
    "        pivo = A[k][k]\n",
    "        Escalonamento para zerar a coluna k (igual ao feita na eliminação convencional)\n",
    "        \n",
    "        \n",
    "Resolva o sistema linear definido acima utilizando eliminação de Gauss com condensação pivotal. Coloque a solução em uma variável chamada `solucao`."
   ]
  },
  {
   "cell_type": "code",
   "execution_count": null,
   "metadata": {
    "collapsed": false
   },
   "outputs": [],
   "source": []
  },
  {
   "cell_type": "code",
   "execution_count": null,
   "metadata": {
    "collapsed": false
   },
   "outputs": [],
   "source": []
  },
  {
   "cell_type": "code",
   "execution_count": null,
   "metadata": {
    "collapsed": true
   },
   "outputs": [],
   "source": []
  },
  {
   "cell_type": "markdown",
   "metadata": {},
   "source": [
    "### Resultado esperado\n",
    "\n",
    "Quando executada, a célula abaixo deverá imprimir `True`."
   ]
  },
  {
   "cell_type": "code",
   "execution_count": null,
   "metadata": {
    "collapsed": false
   },
   "outputs": [],
   "source": [
    "print(np.allclose(np.linalg.solve(A, b), solucao))"
   ]
  }
 ],
 "metadata": {
  "kernelspec": {
   "display_name": "Python 3",
   "language": "python",
   "name": "python3"
  },
  "language_info": {
   "codemirror_mode": {
    "name": "ipython",
    "version": 3
   },
   "file_extension": ".py",
   "mimetype": "text/x-python",
   "name": "python",
   "nbconvert_exporter": "python",
   "pygments_lexer": "ipython3",
   "version": "3.4.3"
  }
 },
 "nbformat": 4,
 "nbformat_minor": 0
}
